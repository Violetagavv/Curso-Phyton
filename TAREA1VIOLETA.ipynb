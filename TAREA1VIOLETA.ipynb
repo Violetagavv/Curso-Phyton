{
  "nbformat": 4,
  "nbformat_minor": 0,
  "metadata": {
    "colab": {
      "provenance": []
    },
    "kernelspec": {
      "name": "python3",
      "display_name": "Python 3"
    },
    "language_info": {
      "name": "python"
    }
  },
  "cells": [
    {
      "cell_type": "markdown",
      "source": [
        "# TAREA 1"
      ],
      "metadata": {
        "id": "G365wSBG4NBs"
      }
    },
    {
      "cell_type": "code",
      "execution_count": null,
      "metadata": {
        "id": "TglzFnmF4L3z"
      },
      "outputs": [],
      "source": [
        "# Crea un bucle para obtener el promedio de todos los elementos que se encuentran en las siguientes listas\n",
        "# Crea un bucle que divida en 3 listas del mismo tamaño a los elementos de las listas anteriores ordenados de menor a mayor.\n",
        "# Crea una código que reciba del usuario nueve elementos de una matriz cuadrada de 3x3 y que retorne el determinante de la matriz.\n",
        "# Crea un código que reciba una cadena de caracteres y arroje la respuesta de si es un estado ó una capital del país.\n",
        "# Pide al usuario dos listas de números reales (misma longitud) y calcula su producto escalar usando un bucle for.\n",
        "# Utiliza un bucle while True para pedir números al usuario y agregarlos a una lista. Cuando la suma total de los elementos sea mayor a 100, el programa debe detenerse y mostrar la lista y la suma final.\n",
        "# Crea una lista vacía y presenta al usuario un menú como este dentro de un while True:"
      ]
    },
    {
      "cell_type": "code",
      "source": [
        "L1=[7.2,7.8,6.8,8.0,None,'8.2',5.6,8.2,7.7,7.5,None,5.8]\n",
        "L2=['6.8',None,6.8,6.1,7.9,9.4,None]\n",
        "L3=[8.5,'9.0',None,7.7]"
      ],
      "metadata": {
        "id": "4WDNmvQL4Qs8"
      },
      "execution_count": 1,
      "outputs": []
    },
    {
      "cell_type": "code",
      "source": [
        "\n",
        "datos_validos = []\n",
        "for lista in [L1, L2, L3]:\n",
        "    for elemento in lista:\n",
        "        if elemento is None:\n",
        "            continue\n",
        "        try:\n",
        "            num = float(elemento)\n",
        "            datos_validos.append(num)\n",
        "        except (TypeError, ValueError):\n",
        "            continue\n",
        "\n",
        "promedio = sum(datos_validos) / len(datos_validos) if datos_validos else 0\n",
        "print(f\"Promedio: {promedio:.2f}\")"
      ],
      "metadata": {
        "colab": {
          "base_uri": "https://localhost:8080/"
        },
        "id": "6muO3m0Z4YNf",
        "outputId": "8a57f5b5-ae1c-4061-a874-6752ad137d3d"
      },
      "execution_count": 5,
      "outputs": [
        {
          "output_type": "stream",
          "name": "stdout",
          "text": [
            "Promedio: 7.50\n"
          ]
        }
      ]
    },
    {
      "cell_type": "code",
      "source": [
        "\n",
        "datos_validos.sort()\n",
        "\n",
        "n = len(datos_validos) // 3\n",
        "sublistas = [datos_validos[i*n : (i+1)*n] for i in range(3)]\n",
        "\n",
        "print(\"Sublistas ya ordenadas\")\n",
        "for i, sublista in enumerate(sublistas, 1):\n",
        "    print(f\"Sublista {i}: {sublista}\")"
      ],
      "metadata": {
        "colab": {
          "base_uri": "https://localhost:8080/"
        },
        "id": "oBTgBTfy6TgW",
        "outputId": "f14a770e-e33c-4be4-e6c1-9a2889ad54d1"
      },
      "execution_count": 12,
      "outputs": [
        {
          "output_type": "stream",
          "name": "stdout",
          "text": [
            "Sublistas ordenadas\n",
            "Sublista 1: [5.6, 5.8, 6.1, 6.8, 6.8, 6.8]\n",
            "Sublista 2: [7.2, 7.5, 7.7, 7.7, 7.8, 7.9]\n",
            "Sublista 3: [8.0, 8.2, 8.2, 8.5, 9.0, 9.4]\n"
          ]
        }
      ]
    },
    {
      "cell_type": "code",
      "source": [
        "import numpy as np\n",
        "\n",
        "def determinante_numpy():\n",
        "    print(\"Ingrese los 9 elementos de la matriz 3x3 (fila por fila):\")\n",
        "    elementos = [float(input(f\"Elemento [{i//3 + 1}][{i%3 + 1}]: \")) for i in range(9)]\n",
        "    matriz = np.array(elementos).reshape(3, 3)\n",
        "\n",
        "    print(\"\\nMatriz ingresada:\")\n",
        "    print(matriz)\n",
        "\n",
        "    det = np.linalg.det(matriz)\n",
        "    return int(det) if det.is_integer() else det\n",
        "\n",
        "# Ejemplo de uso\n",
        "det = determinante_numpy()\n",
        "print(f\"\\nEl determinante de la matriz es: {det}\")"
      ],
      "metadata": {
        "colab": {
          "base_uri": "https://localhost:8080/"
        },
        "id": "dBk1Tj6c6wkM",
        "outputId": "063471d3-49af-4a3c-b7ec-8f32323d5c7c"
      },
      "execution_count": 22,
      "outputs": [
        {
          "output_type": "stream",
          "name": "stdout",
          "text": [
            "Ingrese los 9 elementos de la matriz 3x3 (fila por fila):\n",
            "Elemento [1][1]: 1 \n",
            "Elemento [1][2]: 2\n",
            "Elemento [1][3]: 3\n",
            "Elemento [2][1]: 1\n",
            "Elemento [2][2]: 1\n",
            "Elemento [2][3]: 0\n",
            "Elemento [3][1]: 0\n",
            "Elemento [3][2]: 0\n",
            "Elemento [3][3]: 1\n",
            "\n",
            "Matriz ingresada:\n",
            "[[1. 2. 3.]\n",
            " [1. 1. 0.]\n",
            " [0. 0. 1.]]\n",
            "\n",
            "El determinante de la matriz es: -1\n"
          ]
        }
      ]
    },
    {
      "cell_type": "code",
      "source": [
        "estados_capitales = {\n",
        "    \"Aguascalientes\": \"Aguascalientes\",\n",
        "    \"Baja California\": \"Mexicali\",\n",
        "    \"Baja California Sur\": \"La Paz\",\n",
        "    \"Campeche\": \"San Francisco de Campeche\",\n",
        "    \"Chiapas\": \"Tuxtla Gutiérrez\",\n",
        "    \"Chihuahua\": \"Chihuahua\",\n",
        "    \"Coahuila\": \"Saltillo\",\n",
        "    \"Colima\": \"Colima\",\n",
        "    \"Durango\": \"Durango\",\n",
        "    \"Guanajuato\": \"Guanajuato\",\n",
        "    \"Guerrero\": \"Chilpancingo de los Bravo\",\n",
        "    \"Hidalgo\": \"Pachuca de Soto\",\n",
        "    \"Jalisco\": \"Guadalajara\",\n",
        "\n",
        "    \"Michoacán\": \"Morelia\",\n",
        "    \"Morelos\": \"Cuernavaca\",\n",
        "    \"Nayarit\": \"Tepic\",\n",
        "    \"Nuevo León\": \"Monterrey\",\n",
        "    \"Oaxaca\": \"Oaxaca de Juárez\",\n",
        "    \"Puebla\": \"Puebla de Zaragoza\",\n",
        "    \"Querétaro\": \"Santiago de Querétaro\",\n",
        "    \"Quintana Roo\": \"Chetumal\",\n",
        "    \"San Luis Potosí\": \"San Luis Potosí\",\n",
        "    \"Sinaloa\": \"Culiacán Rosales\",\n",
        "    \"Sonora\": \"Hermosillo\",\n",
        "    \"Tabasco\": \"Villahermosa\",\n",
        "    \"Tamaulipas\": \"Ciudad Victoria\",\n",
        "    \"Tlaxcala\": \"Tlaxcala de Xicohténcatl\",\n",
        "    \"Veracruz\": \"Xalapa-Enríquez\",\n",
        "}\n",
        "\n",
        "def verificar_estado_o_capital():\n",
        "    entrada = input(\"Ingrese un estado o capital de México: \").strip().title()\n",
        "\n",
        "    if entrada in estados_capitales:\n",
        "        print(f\"'{entrada}' es un estado de México.\")\n",
        "    elif entrada in estados_capitales.values():\n",
        "        estado = [estado for estado, capital in estados_capitales.items() if capital == entrada][0]\n",
        "        print(f\"'{entrada}' es la capital de {estado}.\")\n",
        "    else:\n",
        "        print(f\"'{entrada}' no es ni un estado ni una capital de México.\")\n",
        "\n",
        "\n",
        "verificar_estado_o_capital()"
      ],
      "metadata": {
        "colab": {
          "base_uri": "https://localhost:8080/"
        },
        "id": "T8HCLK6A669H",
        "outputId": "6d4e2a03-63d5-42f7-b534-b79dba566fd8"
      },
      "execution_count": 17,
      "outputs": [
        {
          "output_type": "stream",
          "name": "stdout",
          "text": [
            "Ingrese un estado o capital de México: chiapas\n",
            "'Chiapas' es un estado de México.\n"
          ]
        }
      ]
    },
    {
      "cell_type": "code",
      "source": [
        "import numpy as np\n",
        "\n",
        "# Pedir datos al usuario\n",
        "print(\"Ingresa los números de la primera lista (separados por espacios):\")\n",
        "lista1 = np.array([float(x) for x in input().split()])\n",
        "\n",
        "print(\"Ingresa los números de la segunda lista (separados por espacios):\")\n",
        "lista2 = np.array([float(x) for x in input().split()])\n",
        "\n",
        "# Verificar tamaño\n",
        "if len(lista1) != len(lista2):\n",
        "    print(\"Error: Las listas deben tener el mismo tamaño\")\n",
        "else:\n",
        "    # Calcular producto escalar y mostrar sin formato decimal fijo\n",
        "    producto = np.sum(lista1 * lista2)\n",
        "    print(\"El producto escalar es:\", producto)"
      ],
      "metadata": {
        "colab": {
          "base_uri": "https://localhost:8080/"
        },
        "id": "vNRhxUVk7ZO4",
        "outputId": "47705c59-fd52-4b05-f6c4-24b23003a448"
      },
      "execution_count": 19,
      "outputs": [
        {
          "output_type": "stream",
          "name": "stdout",
          "text": [
            "Ingresa los números de la primera lista (separados por espacios):\n",
            "1 2 3 \n",
            "Ingresa los números de la segunda lista (separados por espacios):\n",
            "1 2 3\n",
            "El producto escalar es: 14.0\n"
          ]
        }
      ]
    },
    {
      "cell_type": "code",
      "source": [
        "numeros = []\n",
        "suma_total = 0\n",
        "\n",
        "print(\"Ingrese números uno por uno.\")\n",
        "\n",
        "while True:\n",
        "    try:\n",
        "        numero = float(input(\"Ingrese un número: \"))\n",
        "\n",
        "        numeros.append(numero)\n",
        "\n",
        "        suma_total += numero\n",
        "\n",
        "        if suma_total > 100:\n",
        "            print(\"\\La suma ha superado 100\")\n",
        "            print(f\"Lista de números ingresados: {numeros}\")\n",
        "            print(f\"Suma total: {suma_total}\")\n",
        "            break\n",
        "\n",
        "    except ValueError:\n",
        "        print(\"Error: Por favor ingrese un número válido.\")"
      ],
      "metadata": {
        "colab": {
          "base_uri": "https://localhost:8080/"
        },
        "id": "Fdwo4FXY85Us",
        "outputId": "f3f78d0b-fcce-4898-a58a-f6491bc7cd20"
      },
      "execution_count": 23,
      "outputs": [
        {
          "output_type": "stream",
          "name": "stdout",
          "text": [
            "Ingrese números uno por uno. El programa terminará cuando la suma supere 100.\n",
            "Ingrese un número: 2\n",
            "Ingrese un número: 22\n",
            "Ingrese un número: 44\n",
            "Ingrese un número: 55\n",
            "\n",
            "¡La suma ha superado 100!\n",
            "Lista de números ingresados: [2.0, 22.0, 44.0, 55.0]\n",
            "Suma total: 123.0\n"
          ]
        }
      ]
    },
    {
      "cell_type": "markdown",
      "source": [
        "Crea una lista vacía y presenta al usuario un menú como este dentro de un while True:"
      ],
      "metadata": {
        "id": "4HPBlGey90Wp"
      }
    },
    {
      "cell_type": "markdown",
      "source": [
        "El usuario debe poder ejecutar varias opciones hasta que elija salir.\n"
      ],
      "metadata": {
        "id": "uMQ6RgMQ9xrA"
      }
    },
    {
      "cell_type": "code",
      "source": [
        "lista = []\n",
        "\n",
        "while True:\n",
        "    print(\"\\nMenú:\")\n",
        "    print(\"1. Agregar número\")\n",
        "    print(\"2. Mostrar lista\")\n",
        "    print(\"3. Salir\")\n",
        "\n",
        "    opcion = input(\"Seleccione una opción: \")"
      ],
      "metadata": {
        "id": "5fAhr9fS9_-s"
      },
      "execution_count": null,
      "outputs": []
    },
    {
      "cell_type": "code",
      "source": [
        "lista = []\n",
        "\n",
        "while True:\n",
        "    print(\"n\\1. Agregar número\")\n",
        "    print(\"2. Ver lista\")\n",
        "    print(\"3. Salir\")\n",
        "\n",
        "    op = input(\"Opción: \")\n",
        "\n",
        "    if op == \"1\":\n",
        "        num = float(input(\"Número: \"))\n",
        "        lista.append(num)\n",
        "    elif op == \"2\":\n",
        "        print(\"Lista:\", lista)\n",
        "    elif op == \"3\":\n",
        "        break\n",
        "    else:\n",
        "        print(\"Opción incorrecta\")"
      ],
      "metadata": {
        "colab": {
          "base_uri": "https://localhost:8080/"
        },
        "id": "UYbM98RQ9yYU",
        "outputId": "13cf510e-8090-4bd6-ef4e-a64c3e42ac0c"
      },
      "execution_count": 25,
      "outputs": [
        {
          "name": "stdout",
          "output_type": "stream",
          "text": [
            "\u0001. Agregar número\n",
            "2. Ver lista\n",
            "3. Salir\n",
            "Opción: 1\n",
            "Número: 1\n",
            "\u0001. Agregar número\n",
            "2. Ver lista\n",
            "3. Salir\n",
            "Opción: 3\n"
          ]
        }
      ]
    },
    {
      "cell_type": "code",
      "source": [],
      "metadata": {
        "id": "vVa7Jwsi-Qkd"
      },
      "execution_count": null,
      "outputs": []
    }
  ]
}